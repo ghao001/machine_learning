{
  "nbformat": 4,
  "nbformat_minor": 0,
  "metadata": {
    "colab": {
      "name": "Assignment 1.ipynb",
      "version": "0.3.2",
      "provenance": [],
      "collapsed_sections": []
    },
    "language_info": {
      "codemirror_mode": {
        "name": "ipython",
        "version": 3
      },
      "file_extension": ".py",
      "mimetype": "text/x-python",
      "name": "python",
      "nbconvert_exporter": "python",
      "pygments_lexer": "ipython3",
      "version": "3.5.3"
    },
    "kernelspec": {
      "display_name": "Python 3",
      "language": "python",
      "name": "python3"
    }
  },
  "cells": [
    {
      "cell_type": "code",
      "metadata": {
        "deletable": true,
        "editable": true,
        "id": "EQvYV9HRz8oA",
        "colab_type": "code",
        "colab": {}
      },
      "source": [
        "# The modules we're going to use\n",
        "from __future__ import print_function\n",
        "from sklearn import preprocessing\n",
        "from sklearn.model_selection import train_test_split\n",
        "from sklearn import datasets, linear_model\n",
        "from scipy import linalg\n",
        "import numpy as np\n",
        "import matplotlib.pyplot as plt\n",
        "from numpy.linalg import inv\n",
        "\n",
        "# When you execute a code to plot with a simple SHIFT-ENTER, the plot will be shown directly under the code cell\n",
        "%matplotlib inline"
      ],
      "execution_count": 0,
      "outputs": []
    },
    {
      "cell_type": "code",
      "metadata": {
        "deletable": true,
        "editable": true,
        "id": "YBCVSTmmz8oC",
        "colab_type": "code",
        "colab": {}
      },
      "source": [
        "# Load data from scikit-learn, which returns (data, target)\n",
        "# note: if you call \"boston = load_boston()\", it returns a dictionary-like object\n",
        "data, target = datasets.load_boston(True)\n",
        "\n",
        "# Split the data into two parts: training data and testing data\n",
        "train_data,test_data,train_target,test_target = train_test_split(data,(target[:, np.newaxis]), test_size=0.2, random_state=42)"
      ],
      "execution_count": 0,
      "outputs": []
    },
    {
      "cell_type": "code",
      "metadata": {
        "id": "xutxXXVspr51",
        "colab_type": "code",
        "outputId": "90fa7157-adbe-4a08-cdd8-e811a56b52e2",
        "colab": {
          "base_uri": "https://localhost:8080/",
          "height": 51
        }
      },
      "source": [
        "print(test_data.shape)\n",
        "test_target.shape"
      ],
      "execution_count": 0,
      "outputs": [
        {
          "output_type": "stream",
          "text": [
            "(102, 13)\n"
          ],
          "name": "stdout"
        },
        {
          "output_type": "execute_result",
          "data": {
            "text/plain": [
              "(102, 1)"
            ]
          },
          "metadata": {
            "tags": []
          },
          "execution_count": 22
        }
      ]
    },
    {
      "cell_type": "markdown",
      "metadata": {
        "deletable": true,
        "editable": true,
        "id": "m6LjX-Paz8oE",
        "colab_type": "text"
      },
      "source": [
        "<h4>Use scikit-learn library in the following cell</h4>"
      ]
    },
    {
      "cell_type": "code",
      "metadata": {
        "deletable": true,
        "editable": true,
        "id": "Xi3wAXssz8oE",
        "colab_type": "code",
        "outputId": "a1487fde-9528-493f-d18b-ffa45451c580",
        "colab": {
          "base_uri": "https://localhost:8080/",
          "height": 371
        }
      },
      "source": [
        "# Task 1-1: use linear regression in sklearn\n",
        "regr = linear_model.LinearRegression()\n",
        "regr.fit(train_data, train_target)\n",
        "pred_target = regr.predict(test_data)\n",
        "\n",
        "# Task 1-2: show intercept and coefficents\n",
        "print('Intercept: ', regr.intercept_)\n",
        "print('Coefficents: ', regr.coef_)\n",
        "\n",
        "# Task 1-3: show errors on training dataset and testing dataset\n",
        "print('Error on testing: %.2f' %np.sqrt(np.mean((pred_target-test_target) ** 2)))\n",
        "\n",
        "# Task 1-4: show plot a figure to show your predictions and real prices on the testing dataset\n",
        "plt.scatter(test_target, pred_target, color = 'black')\n",
        "plt.axis('tight')\n",
        "plt.plot([0,50], [0,50], '--k')\n",
        "\n",
        "plt.show()\n"
      ],
      "execution_count": 0,
      "outputs": [
        {
          "output_type": "stream",
          "text": [
            "Intercept:  [30.24675099]\n",
            "Coefficents:  [[-1.13055924e-01  3.01104641e-02  4.03807204e-02  2.78443820e+00\n",
            "  -1.72026334e+01  4.43883520e+00 -6.29636221e-03 -1.44786537e+00\n",
            "   2.62429736e-01 -1.06467863e-02 -9.15456240e-01  1.23513347e-02\n",
            "  -5.08571424e-01]]\n",
            "Error on testing: 4.93\n"
          ],
          "name": "stdout"
        },
        {
          "output_type": "display_data",
          "data": {
            "image/png": "[encoded data removed]",
            "text/plain": [
              "<Figure size 432x288 with 1 Axes>"
            ]
          },
          "metadata": {
            "tags": []
          }
        }
      ]
    },
    {
      "cell_type": "markdown",
      "metadata": {
        "deletable": true,
        "editable": true,
        "id": "sy9me8Jbz8oG",
        "colab_type": "text"
      },
      "source": [
        "<h4>Use analytical solution (normal equation) to perform linear regression in the following cell</h4>"
      ]
    },
    {
      "cell_type": "code",
      "metadata": {
        "deletable": true,
        "editable": true,
        "id": "Gaa6SwN2z8oG",
        "colab_type": "code",
        "outputId": "cacd8682-2afe-436c-f27f-f48b84ed81e2",
        "colab": {
          "base_uri": "https://localhost:8080/",
          "height": 354
        }
      },
      "source": [
        "# Task 2-1: Implement a function solving normal equation \n",
        "# Inputs: Training data and  training label\n",
        "# Output: Weights\n",
        "def myNormalEqualFun(X,y):\n",
        "    return np.dot(np.dot(inv(np.dot(np.transpose(X), X)), np.transpose(X)),y)\n",
        "    \n",
        "# Task 2-2: Implement a function performing prediction\n",
        "# Inputs: Testing data and weights\n",
        "# Output: Predictions\n",
        "def myPredictFun(X,w):\n",
        "    return np.dot(np.transpose(w), X)\n",
        "\n",
        "# Here we insert a column of 1s into training_data and test_data (to be consistent with our lecture slides)\n",
        "train_data_intercept = np.insert(train_data, 0, 1, axis=1)\n",
        "test_data_intercept = np.insert(test_data, 0, 1, axis=1)\n",
        "\n",
        "# Here we call myNormalEqual to train the model and get weights\n",
        "w = myNormalEqualFun(train_data_intercept,train_target)\n",
        "\n",
        "\n",
        "# Task 2-3: show intercept and coefficents\n",
        "print(\"Coefficents: \",np.transpose(w))\n",
        "print('Intercept: ', w[0])\n",
        "# Task 2-4: show errors on training dataset and testing dataset\n",
        "print('Error on testing: %.2f' %np.sqrt(np.mean((pred_target-test_target) ** 2)))\n",
        "\n",
        "# Task 2-5: show plot a figure to show your predictions and real prices on the testing dataset\n",
        "plt.scatter(test_target, pred_target, color = 'black')\n",
        "plt.axis('tight')\n",
        "plt.plot([0,50], [0,50], '--k')\n",
        "\n",
        "plt.show()"
      ],
      "execution_count": 0,
      "outputs": [
        {
          "output_type": "stream",
          "text": [
            "Coefficents:  [[22.79653465 -1.00213533  0.69626862  0.27806485  0.7187384  -2.0223194\n",
            "   3.14523956 -0.17604788 -3.0819076   2.25140666 -1.76701378 -2.03775151\n",
            "   1.12956831 -3.61165842]]\n",
            "Intercept:  [22.79653465]\n",
            "Error on testing: 4.93\n"
          ],
          "name": "stdout"
        },
        {
          "output_type": "display_data",
          "data": {
            "image/png": "[encoded data removed]",
            "text/plain": [
              "<Figure size 432x288 with 1 Axes>"
            ]
          },
          "metadata": {
            "tags": []
          }
        }
      ]
    },
    {
      "cell_type": "markdown",
      "metadata": {
        "deletable": true,
        "editable": true,
        "id": "aADXmGcmz8oI",
        "colab_type": "text"
      },
      "source": [
        "<h4>Use numerical solution (gradient descent) to perform linear regression in the following cell</h4>"
      ]
    },
    {
      "cell_type": "code",
      "metadata": {
        "deletable": true,
        "editable": true,
        "id": "5GS5mehMz8oI",
        "colab_type": "code",
        "outputId": "73d69c80-3e22-4158-8a3c-11c70e7f400b",
        "colab": {
          "base_uri": "https://localhost:8080/",
          "height": 371
        }
      },
      "source": [
        "# Feature scaling\n",
        "scaler = preprocessing.StandardScaler().fit(train_data)\n",
        "train_data = scaler.transform(train_data)\n",
        "test_data = scaler.transform(test_data)\n",
        "\n",
        "\n",
        "# Task 3-1: Implement a function performing gradient descent\n",
        "# Inputs: Training data, training label, leaerning rate, number of iterations\n",
        "# Output: Weights\n",
        "def myGradientDescentFun(X,y,learning_rate,numItrs):\n",
        "  w = np.zeros((14,1))\n",
        "  for i in range(numItrs-1):\n",
        "    w = w + learning_rate*(np.dot(np.transpose(X), (y - np.dot(X,w))))\n",
        "  return w\n",
        "\n",
        "# Task 3-2: Implement a function performing prediction\n",
        "# Inputs: Testing data and weights\n",
        "# Output: Predictions\n",
        "def myPredictFun(X,w):\n",
        "    return np.dot(np.transpose(w), X)\n",
        "\n",
        "# Here we insert a column of 1s into training_data and test_data (to be consistent with our lecture slides)\n",
        "train_data_intercept = np.insert(train_data, 0, 1, axis=1)\n",
        "test_data_intercept = np.insert(test_data, 0, 1, axis=1)\n",
        "\n",
        "# Here we call myGradientDescentFun to train the model and get weights\n",
        "# Note: you need to figure out good learning rate value and the number of iterations\n",
        "w = myGradientDescentFun(train_data_intercept,train_target,0.001,1000)\n",
        "\n",
        "# Task 3-3: show intercept and coefficents\n",
        "print(\"Coefficents: \",np.transpose(w))\n",
        "print('Intercept: ', w[0])\n",
        "# Task 3-4: show errors on training dataset and testing dataset\n",
        "print('Error on testing: %.2f' %np.sqrt(np.mean((pred_target-test_target) ** 2)))\n",
        "\n",
        "# Task 3-5: show plot a figure to show your predictions and real prices on the testing dataset\n",
        "plt.scatter(test_target, pred_target, color = 'black')\n",
        "plt.axis('tight')\n",
        "plt.plot([0,50], [0,50], '--k')\n",
        "\n",
        "plt.show()"
      ],
      "execution_count": 0,
      "outputs": [
        {
          "output_type": "stream",
          "text": [
            "Coefficents:  [[-3.68181627e+138 -3.04054075e+156  3.20977454e+156 -4.32873498e+156\n",
            "  -2.17728304e+155 -4.26472686e+156  2.28668683e+156 -3.84584324e+156\n",
            "   4.03435394e+156 -3.95651659e+156 -4.15912735e+156 -2.46786459e+156\n",
            "   2.49541603e+156 -3.79960989e+156]]\n",
            "Intercept:  [-3.68181627e+138]\n",
            "Error on testing: 4.93\n"
          ],
          "name": "stdout"
        },
        {
          "output_type": "display_data",
          "data": {
            "image/png": "[encoded data removed]",
            "text/plain": [
              "<Figure size 432x288 with 1 Axes>"
            ]
          },
          "metadata": {
            "tags": []
          }
        }
      ]
    }
  ]
}